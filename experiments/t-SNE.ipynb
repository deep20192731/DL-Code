{
 "cells": [
  {
   "cell_type": "code",
   "execution_count": 8,
   "metadata": {
    "collapsed": false,
    "deletable": true,
    "editable": true
   },
   "outputs": [
    {
     "data": {
      "text/plain": [
       "'\\nfrom sklearn.manifold import TSNE\\nfrom sklearn import datasets\\n\\nimport seaborn as sns\\nsns.set_style(\\'darkgrid\\')\\nimport matplotlib.patheffects as PathEffects\\nsns.set_palette(\\'muted\\')\\nsns.set_context(\"notebook\", font_scale=1.5,\\n                rc={\"lines.linewidth\": 2.5})\\n'"
      ]
     },
     "execution_count": 8,
     "metadata": {},
     "output_type": "execute_result"
    }
   ],
   "source": [
    "%matplotlib inline\n",
    "%config InlineBackend.figure_format = 'retina'\n",
    "\n",
    "import numpy as np\n",
    "from sklearn.datasets import load_digits\n",
    "from sklearn import datasets\n",
    "from sklearn.metrics.pairwise import euclidean_distances\n",
    "import matplotlib.pyplot as plt\n",
    "\n",
    "'''\n",
    "from sklearn.manifold import TSNE\n",
    "from sklearn import datasets\n",
    "\n",
    "import seaborn as sns\n",
    "sns.set_style('darkgrid')\n",
    "import matplotlib.patheffects as PathEffects\n",
    "sns.set_palette('muted')\n",
    "sns.set_context(\"notebook\", font_scale=1.5,\n",
    "                rc={\"lines.linewidth\": 2.5})\n",
    "'''"
   ]
  },
  {
   "cell_type": "markdown",
   "metadata": {
    "deletable": true,
    "editable": true
   },
   "source": [
    "<b>Notes</b> <br/>\n",
    "1. <i>What are some implications of Kullback-Leibler Divergence to be asymetric?</i> <br/>\n",
    "Kullback Leibler Divergence is assymetric in the sense that there is high cost if we represent distant points with near points in low dimension but low cost if we represent nearby points with high distance in low dimension(See its mathematical form)\n",
    "\n",
    "2. <i>Why Gaussian Distribution for modelling points in actual(higher) dimension?</i> <br/>\n",
    "Not always points have to align with a normal distribution. If it was true why would we have different distributions, like Binomial. You assume that points come from a normal distribution. If you have some reasons to suspect they do not, then you might get results that will be wrong, misleading or will not hold if you take different sample.\n",
    "In general people assume that every distribution converges to normal (as we have Central Limit Theorem), but that is not true. The theorem has its assumptions which sometimes might not be satisfied. And there is also a case of binomial distribution converging to Poisson.\n",
    "\n",
    "3. <i>Why t-Student Distribution for modelling points in embedded(lower) dimension?</i> <br/>\n",
    "Probably because t-student was developed to work well with small samples. I do not remember, from the top of my head, but usually when some estimators are good then they are unbiased and have the lowest variance among some class of estimators (e.g. linear). <br/>\n",
    "Small Sample Theory - \n",
    "http://statistics.berkeley.edu/sites/default/files/tech-reports/541.pdf <br/>\n",
    "Student t-distribution because of its heavy-tailed property, making joint probabilities nearly insensitive for mapping points which are too much dissimilar while being invariant to scaling (thus, clusters move together)\n",
    "It impacts the learning gradient heavily"
   ]
  },
  {
   "cell_type": "code",
   "execution_count": 9,
   "metadata": {
    "collapsed": false,
    "deletable": true,
    "editable": true
   },
   "outputs": [],
   "source": [
    "def tSNE(X, sigma, req_dims):\n",
    "    (n, d) = X.shape\n",
    "    # Conditional Gaussian Similarity Matrix = Pairwise Similarity Matrix based on Gaussian centered around a point\n",
    "    cond_gaussian_simi_matrix = np.exp(-euclidean_distances(X)**2 / 2*(sigma**2))\n",
    "    np.fill_diagonal(cond_gaussian_simi_matrix, 0) # Since only interested in pair-wise similarity\n",
    "    cond_gaussian_simi_matrix /= cond_gaussian_simi_matrix.sum(axis=1)\n",
    "    \n",
    "    # Symmetric Joint Probability Matrix (For points in Higher Dimension)\n",
    "    joint_prob_matrix = (cond_gaussian_simi_matrix + cond_gaussian_simi_matrix.T)/2*n\n",
    "    \n",
    "    # Generate Map points(sample points in lower dimension) from a Gaussian-Distribution\n",
    "    map_points = np.random.randn(n, req_dims)\n",
    "    \n",
    "    student_func = lambda x: 1+ (1/(1+x**2)) # Lambda for Student-t distribution\n",
    "    \n",
    "    # Run Gradient-Descent. Cost-Func = Kullback-Divergence between Gaussian and Student-t Distribution\n",
    "    epochs = 500\n",
    "    learn_rate = 0.001\n",
    "    momentum_term = 0.002\n",
    "    map_points_copy = np.zeros((n, req_dims))\n",
    "    \n",
    "    for epoch in range(epochs):\n",
    "        # Compute low-dimesional affinities q_ij\n",
    "        student_simi_matrix = student_func(euclidean_distances(map_points)**2)\n",
    "        np.fill_diagonal(student_simi_matrix, 0)\n",
    "        joint_prob_matrix_student = student_simi_matrix/student_simi_matrix.sum(axis=1)\n",
    "        \n",
    "        # Compute Gradient\n",
    "        gradient = np.zeros((n, req_dims))\n",
    "        for index in range(n):\n",
    "            gradient_contribution = np.ones((1, req_dims))\n",
    "            for inner_index in range(n):\n",
    "                    gradient_contribution *= joint_prob_matrix[index][inner_index] - joint_prob_matrix_student[index][inner_index]\n",
    "                    gradient_contribution *= map_points[index] - map_points[inner_index]\n",
    "                    gradient_contribution *= student_func(np.linalg.norm(map_points[index] - map_points[inner_index]))\n",
    "            gradient[index] = 4*gradient_contribution\n",
    "        \n",
    "        # Update Map Points with gradient and momentum terms\n",
    "        temp = np.copy(map_points)\n",
    "        map_points -= learn_rate*gradient + momentum_term*(map_points - map_points_copy)\n",
    "        map_points_copy = temp\n",
    "    \n",
    "    return map_points"
   ]
  },
  {
   "cell_type": "code",
   "execution_count": null,
   "metadata": {
    "collapsed": true,
    "deletable": true,
    "editable": true
   },
   "outputs": [],
   "source": [
    "def tSNE(X, perplexity, req_dims):\n",
    "    "
   ]
  },
  {
   "cell_type": "code",
   "execution_count": 10,
   "metadata": {
    "collapsed": false,
    "deletable": true,
    "editable": true
   },
   "outputs": [],
   "source": [
    "# t-SNE on Iris Dataset(Just 3 clusters)\n",
    "iris = datasets.load_iris()\n",
    "sigma = 1/np.sqrt(2)\n",
    "\n",
    "result = tSNE(iris.data, sigma, 2)"
   ]
  },
  {
   "cell_type": "code",
   "execution_count": 12,
   "metadata": {
    "collapsed": false,
    "deletable": true,
    "editable": true
   },
   "outputs": [
    {
     "data": {
      "image/png": "[encoded data removed]",
      "text/plain": [
       "<matplotlib.figure.Figure at 0x109caa690>"
      ]
     },
     "metadata": {
      "image/png": {
       "height": 181,
       "width": 352
      }
     },
     "output_type": "display_data"
    }
   ],
   "source": [
    "# t-SNE on Digits Dataser(> 3 clusters)\n",
    "digits = load_digits()\n",
    "nrows, ncols = 2, 5\n",
    "plt.figure(figsize=(6,3))\n",
    "plt.gray()\n",
    "for i in range(ncols * nrows):\n",
    "    ax = plt.subplot(nrows, ncols, i + 1)\n",
    "    ax.matshow(digits.images[i,...])\n",
    "    plt.xticks([]); plt.yticks([])\n",
    "    plt.title(digits.target[i])\n",
    "plt.savefig('data/images/digits-generated.png', dpi=150)"
   ]
  },
  {
   "cell_type": "code",
   "execution_count": 115,
   "metadata": {
    "collapsed": false,
    "deletable": true,
    "editable": true
   },
   "outputs": [],
   "source": [
    "RS = 20150101\n",
    "result = TSNE(random_state=RS).fit_transform(iris.data)"
   ]
  },
  {
   "cell_type": "code",
   "execution_count": 13,
   "metadata": {
    "collapsed": true,
    "deletable": true,
    "editable": true
   },
   "outputs": [],
   "source": [
    "def scatter(x, colors):\n",
    "    # We choose a color palette with seaborn.\n",
    "    palette = np.array(sns.color_palette(\"hls\", 10))\n",
    "\n",
    "    # We create a scatter plot.\n",
    "    f = plt.figure(figsize=(8, 8))\n",
    "    ax = plt.subplot(aspect='equal')\n",
    "    sc = ax.scatter(x[:,0], x[:,1], lw=0, s=40,\n",
    "                    c=palette[colors.astype(np.int)])\n",
    "    plt.xlim(-25, 25)\n",
    "    plt.ylim(-25, 25)\n",
    "    ax.axis('off')\n",
    "    ax.axis('tight')\n",
    "\n",
    "    # We add the labels for each digit.\n",
    "    txts = []\n",
    "    for i in range(10):\n",
    "        # Position of each label.\n",
    "        xtext, ytext = np.median(x[colors == i, :], axis=0)\n",
    "        txt = ax.text(xtext, ytext, str(i), fontsize=24)\n",
    "        txt.set_path_effects([\n",
    "            PathEffects.Stroke(linewidth=5, foreground=\"w\"),\n",
    "            PathEffects.Normal()])\n",
    "        txts.append(txt)\n",
    "\n",
    "    return f, ax, sc, txts"
   ]
  },
  {
   "cell_type": "code",
   "execution_count": 7,
   "metadata": {
    "collapsed": false,
    "deletable": true,
    "editable": true
   },
   "outputs": [
    {
     "ename": "NameError",
     "evalue": "name 'result' is not defined",
     "output_type": "error",
     "traceback": [
      "\u001b[0;31m---------------------------------------------------------------------------\u001b[0m",
      "\u001b[0;31mNameError\u001b[0m                                 Traceback (most recent call last)",
      "\u001b[0;32m<ipython-input-7-4eb75da60959>\u001b[0m in \u001b[0;36m<module>\u001b[0;34m()\u001b[0m\n\u001b[0;32m----> 1\u001b[0;31m \u001b[0mplt\u001b[0m\u001b[0;34m.\u001b[0m\u001b[0mscatter\u001b[0m\u001b[0;34m(\u001b[0m\u001b[0mresult\u001b[0m\u001b[0;34m[\u001b[0m\u001b[0;34m:\u001b[0m\u001b[0;34m,\u001b[0m\u001b[0;36m0\u001b[0m\u001b[0;34m]\u001b[0m\u001b[0;34m,\u001b[0m \u001b[0mresult\u001b[0m\u001b[0;34m[\u001b[0m\u001b[0;34m:\u001b[0m\u001b[0;34m,\u001b[0m\u001b[0;36m1\u001b[0m\u001b[0;34m]\u001b[0m\u001b[0;34m,\u001b[0m \u001b[0;36m20\u001b[0m\u001b[0;34m,\u001b[0m \u001b[0miris\u001b[0m\u001b[0;34m.\u001b[0m\u001b[0mtarget\u001b[0m\u001b[0;34m)\u001b[0m\u001b[0;34m;\u001b[0m\u001b[0;34m\u001b[0m\u001b[0m\n\u001b[0m\u001b[1;32m      2\u001b[0m \u001b[0mplt\u001b[0m\u001b[0;34m.\u001b[0m\u001b[0mshow\u001b[0m\u001b[0;34m(\u001b[0m\u001b[0;34m)\u001b[0m\u001b[0;34m;\u001b[0m\u001b[0;34m\u001b[0m\u001b[0m\n",
      "\u001b[0;31mNameError\u001b[0m: name 'result' is not defined"
     ]
    }
   ],
   "source": [
    "plt.scatter(result[:,0], result[:,1], 20, iris.target);\n",
    "plt.show();"
   ]
  },
  {
   "cell_type": "code",
   "execution_count": 14,
   "metadata": {
    "collapsed": false,
    "deletable": true,
    "editable": true
   },
   "outputs": [
    {
     "name": "stdout",
     "output_type": "stream",
     "text": [
      "[[   0.   64.  256.   20.   84.  276.]\n",
      " [  64.    0.   64.   84.   20.   84.]\n",
      " [ 256.   64.    0.  276.   84.   20.]\n",
      " [  20.   84.  276.    0.   64.  256.]\n",
      " [  84.   20.   84.   64.    0.   64.]\n",
      " [ 276.   84.   20.  256.   64.    0.]]\n",
      "[  64.  256.   20.   84.  276.]\n"
     ]
    }
   ],
   "source": [
    "X = np.array([[1,2,3,4], [5,6,7,8], [9,10,11,12], [4,3,2,1], [8,7,6,5], [12,11,10,9]])\n",
    "D = euclidean_distances(X)**2\n",
    "Di = D[0, np.concatenate((np.r_[0:0], np.r_[0+1:6]))];\n",
    "print(D)\n",
    "print(Di)"
   ]
  },
  {
   "cell_type": "code",
   "execution_count": 22,
   "metadata": {
    "collapsed": false,
    "deletable": true,
    "editable": true
   },
   "outputs": [
    {
     "name": "stdout",
     "output_type": "stream",
     "text": [
      "[ 1.  1.  1.]\n",
      "[  1.87960758e-12   3.75921516e-12   1.87960758e-12]\n"
     ]
    }
   ],
   "source": [
    "import numpy as Math\n",
    "\n",
    "X = np.array([[1,2,3], [4,5,6], [7,8,9]])\n",
    "sum_X = Math.sum(Math.square(X), 1);\n",
    "D = Math.add(Math.add(-2 * Math.dot(X, X.T), sum_X).T, sum_X);\n",
    "\n",
    "Di = D[0, Math.concatenate((Math.r_[0:0], Math.r_[0+1:3]))];\n",
    "P = Math.exp(-D.copy() * 1);\n",
    "sumP = sum(P);\n",
    "H = Math.log(sumP) + 1 * Math.sum(D * P) / sumP;\n",
    "P = P / sumP;\n",
    "print(sumP)\n",
    "print(Math.log(sumP))"
   ]
  },
  {
   "cell_type": "code",
   "execution_count": 15,
   "metadata": {
    "collapsed": false,
    "deletable": true,
    "editable": true
   },
   "outputs": [
    {
     "name": "stdout",
     "output_type": "stream",
     "text": [
      "[[ 0.8  0.8]\n",
      " [ 0.8  0.8]\n",
      " [ 0.8  0.8]\n",
      " [ 0.8  0.8]]\n"
     ]
    }
   ],
   "source": [
    "import numpy as np\n",
    "gains = np.ones((4,2))\n",
    "dY = np.zeros((4,2))\n",
    "iY = np.zeros((4,2))\n",
    "\n",
    "gains = (gains + 0.2) * ((dY > 0) != (iY > 0)) + (gains * 0.8) * ((dY > 0) == (iY > 0))\n",
    "gains[gains < 0.02] = 0.02\n",
    "print(gains)"
   ]
  },
  {
   "cell_type": "code",
   "execution_count": null,
   "metadata": {
    "collapsed": true
   },
   "outputs": [],
   "source": []
  }
 ],
 "metadata": {
  "kernelspec": {
   "display_name": "Python 3",
   "language": "python",
   "name": "python3"
  },
  "language_info": {
   "codemirror_mode": {
    "name": "ipython",
    "version": 3
   },
   "file_extension": ".py",
   "mimetype": "text/x-python",
   "name": "python",
   "nbconvert_exporter": "python",
   "pygments_lexer": "ipython3",
   "version": "3.6.0"
  }
 },
 "nbformat": 4,
 "nbformat_minor": 2
}
