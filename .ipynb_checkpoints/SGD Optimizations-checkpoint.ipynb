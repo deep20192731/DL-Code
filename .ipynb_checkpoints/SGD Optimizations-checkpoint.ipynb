{
 "cells": [
  {
   "cell_type": "code",
   "execution_count": 148,
   "metadata": {
    "collapsed": false,
    "deletable": true,
    "editable": true
   },
   "outputs": [],
   "source": [
    "%matplotlib inline\n",
    "%config InlineBackend.figure_format = 'retina'\n",
    "\n",
    "import sys\n",
    "import numpy as np\n",
    "import pandas as pd\n",
    "import matplotlib.pyplot as plt\n",
    "from sklearn.datasets import load_diabetes\n",
    "from sklearn.model_selection import train_test_split\n",
    "from sklearn import decomposition"
   ]
  },
  {
   "cell_type": "code",
   "execution_count": 138,
   "metadata": {
    "collapsed": false,
    "deletable": true,
    "editable": true
   },
   "outputs": [],
   "source": [
    "# Toy Dataset from sklearn library. Each measure has already been mean centered and scaled by standard-deviation\n",
    "dia_dataset = load_diabetes()\n",
    "(data, target) = dia_dataset.data[:, np.newaxis, 2], np.reshape(dia_dataset.target, (dia_dataset.target.shape[0], 1))\n",
    "\n",
    "# Centering and Scaling Output Varaible\n",
    "mean, std = target.mean(), target.std()\n",
    "target = (target - mean)/std\n",
    "\n",
    "# Splitting dataset to 70-30 Train and Test Split\n",
    "X_train, X_test, y_train, y_test = train_test_split(data, target, test_size = 0.1, random_state = 1)"
   ]
  },
  {
   "cell_type": "code",
   "execution_count": 139,
   "metadata": {
    "collapsed": false,
    "deletable": true,
    "editable": true
   },
   "outputs": [
    {
     "data": {
      "image/png": "[encoded data removed]",
      "text/plain": [
       "<matplotlib.figure.Figure at 0x116f1f9b0>"
      ]
     },
     "metadata": {},
     "output_type": "display_data"
    }
   ],
   "source": [
    "# Feature vs Target Varaible\n",
    "(n, d) = X_train.shape[0], X_train.shape[1]\n",
    "features = ['Age', 'Sex', 'BMI', 'Avg Blood Pressure', 'S1', 'S2', 'S3', 'S4', 'S5', 'S6']\n",
    "\n",
    "plot_index = 1\n",
    "plt.subplots_adjust(hspace=.5)\n",
    "for index in range(d):\n",
    "    feature_column = np.reshape(X_train[:,index], (n, 1))\n",
    "    ax = plt.subplot(5, 2, plot_index, frame_on=True)\n",
    "    ax.set_xticks([])\n",
    "    ax.set_yticks([])\n",
    "    plt.xlabel(features[index])\n",
    "    plt.ylabel(\"DP\")\n",
    "    plot_index += 1\n",
    "    plt.scatter(feature_column, y_train)\n",
    "plt.show()"
   ]
  },
  {
   "cell_type": "code",
   "execution_count": 140,
   "metadata": {
    "collapsed": false,
    "deletable": true,
    "editable": true
   },
   "outputs": [],
   "source": [
    "class LinearRegression(object):\n",
    "    def __init__(self, dims, iterations=100):\n",
    "        self.dims = dims\n",
    "        self.iterations = iterations\n",
    "        \n",
    "        self.lr = 0.01\n",
    "        self.momentum = 0.9\n",
    "        \n",
    "        self.adagrad_diag_mat = np.zeros((1, self.dims))\n",
    "        \n",
    "        self.errors = np.zeros((iterations, 1))\n",
    "        \n",
    "        self.velocity = np.zeros((1, self.dims))\n",
    "        self.weights = np.random.normal(0, 1, (1, dims)) # From a normal distribution with mean=0 and sd=1\n",
    "\n",
    "    def vanillaSGD(self, X, y):\n",
    "        delta_w = np.zeros((1, self.dims))\n",
    "        delta_b = np.zeros((1, 1))\n",
    "        \n",
    "        n_records = X.shape[0]\n",
    "        for ite in range(self.iterations):\n",
    "            y_model = np.dot(self.weights, X.T)\n",
    "\n",
    "            error = y.T - y_model\n",
    "            grad_w = np.dot(error, X)/n_records\n",
    "            self.weights += (self.lr*grad_w)\n",
    "            self.errors[ite] = self.MSE(self.run(X).T, y)\n",
    "        return (self.errors, self.weights)\n",
    "    \n",
    "    def SGDWithMomentum(self, X, y):\n",
    "        delta_w = np.zeros((1, self.dims))\n",
    "        delta_b = np.zeros((1, 1))\n",
    "\n",
    "        n_records = X.shape[0]\n",
    "        for ite in range(self.iterations):\n",
    "            y_model = np.dot(self.weights, X.T) \n",
    "\n",
    "            error = y.T - y_model\n",
    "            grad_w = np.dot(error, X)/n_records\n",
    "            \n",
    "            self.velocity = (self.momentum*self.velocity) - (self.lr*grad_w)\n",
    "            self.weights -= self.velocity\n",
    "            self.errors[ite] = self.MSE(self.run(X).T, y)\n",
    "        return (self.errors, self.weights)\n",
    "    \n",
    "    def SGDWithNestorovMomentum(self, X, y):\n",
    "        delta_w = np.zeros((1, self.dims))\n",
    "        delta_b = np.zeros((1, 1))\n",
    "\n",
    "        n_records = X.shape[0]\n",
    "        for ite in range(self.iterations):\n",
    "            y_model = np.dot(self.weights, X.T)\n",
    "\n",
    "            error = y.T - y_model\n",
    "            grad_w = np.dot(error, X)/n_records\n",
    "            \n",
    "            # https://www.reddit.com/r/MachineLearning/comments/3rbxyw/whats_the_difference_between_momentum_based/\n",
    "            # http://sebastianruder.com/optimizing-gradient-descent/index.html#gradientdescentoptimizationalgorithms\n",
    "            self.velocity = (self.momentum**2 * self.velocity) - (1 + self.momentum)*(self.lr*grad_w)\n",
    "            self.weights -= self.velocity\n",
    "            self.errors[ite] = self.MSE(self.run(X).T, y)\n",
    "        return (self.errors, self.weights)\n",
    "    \n",
    "    def SGDWithAdagrad(self, X, y):\n",
    "        delta_w = np.zeros((1, self.dims))\n",
    "        delta_b = np.zeros((1, 1))\n",
    "\n",
    "        n_records = X.shape[0]\n",
    "        for ite in range(self.iterations):\n",
    "            y_model = np.dot(self.weights, X.T)\n",
    "\n",
    "            error = y.T - y_model\n",
    "            grad_w = np.dot(error, X)/n_records\n",
    "            \n",
    "            epsilon = 1e-8\n",
    "            self.adagrad_diag_mat += grad_w**2\n",
    "            self.weights += (self.lr/(np.sqrt(self.adagrad_diag_mat + epsilon)))*grad_w\n",
    "            self.errors[ite] = self.MSE(self.run(X).T, y)\n",
    "        return (self.errors, self.weights)\n",
    "    \n",
    "    def run(self, X):\n",
    "        return np.matmul(self.weights, X.T)\n",
    "\n",
    "    def MSE(self, y, Y):\n",
    "        return np.mean((y-Y)**2)"
   ]
  },
  {
   "cell_type": "code",
   "execution_count": 141,
   "metadata": {
    "collapsed": true,
    "deletable": true,
    "editable": true
   },
   "outputs": [],
   "source": [
    "def PCA(X, pc, center=True):\n",
    "    (n, d) = X.shape\n",
    "    if(center): X = X - X.mean(axis=0).reshape(1, d) # Mean-Normalization(Data Centering)\n",
    "    cov = X.T.dot(X) / (n-1) # Co-Variance Matrix\n",
    "    w, E = np.linalg.eig(cov) # Eigen-Values and Eigen-Vectors\n",
    "    \n",
    "    # Arranging Eigen-Vectors in Decreasing Order\n",
    "    complex_to_float_func = lambda x: x.astype(np.float)\n",
    "    w, E = complex_to_float_func(w), complex_to_float_func(E)\n",
    "    \n",
    "    map_ev = {}\n",
    "    for index in range(w.shape[0]): map_ev[w[index]] = E[index] \n",
    "    \n",
    "    heap = heapq.nlargest(pc, w.tolist()) # Maintains k largest elements in heap\n",
    "    EV = []\n",
    "    for ev in heap: EV.append(map_ev[ev])\n",
    "\n",
    "    return X.dot(np.array(EV).T).T # Return Original Data casted to Reduced Dimension"
   ]
  },
  {
   "cell_type": "code",
   "execution_count": 142,
   "metadata": {
    "collapsed": false,
    "deletable": true,
    "editable": true
   },
   "outputs": [
    {
     "name": "stdout",
     "output_type": "stream",
     "text": [
      "Vanilla SGD\n",
      "Training Loss = 1.01542959818\n",
      "Test Loss = 0.825718066324\n"
     ]
    },
    {
     "data": {
      "image/png": "[encoded data removed]",
      "text/plain": [
       "<matplotlib.figure.Figure at 0x116f26f60>"
      ]
     },
     "metadata": {},
     "output_type": "display_data"
    }
   ],
   "source": [
    "iterations = 700\n",
    "lr = LinearRegression(d, iterations)\n",
    "errors, weights = lr.vanillaSGD(X_train, y_train)\n",
    "print(\"Vanilla SGD\")\n",
    "print(\"Training Loss = \" + str(lr.MSE(lr.run(X_train).T, y_train)))\n",
    "print(\"Test Loss = \" + str(lr.MSE(lr.run(X_test).T, y_test)))\n",
    "\n",
    "# plt.plot(range(1, iterations+1), errors)\n",
    "plt.scatter(X_test, y_test,  color='black')\n",
    "plt.scatter(X_test.T, lr.run(X_test), color='blue', linewidth=3)\n",
    "plt.show()"
   ]
  },
  {
   "cell_type": "code",
   "execution_count": 143,
   "metadata": {
    "collapsed": false,
    "deletable": true,
    "editable": true
   },
   "outputs": [
    {
     "name": "stdout",
     "output_type": "stream",
     "text": [
      "SGD With Nestorev Momentum\n",
      "Training Loss = 0.884226946808\n",
      "Test Loss = 0.784934000839\n"
     ]
    },
    {
     "data": {
      "image/png": "[encoded data removed]",
      "text/plain": [
       "<matplotlib.figure.Figure at 0x116d828d0>"
      ]
     },
     "metadata": {},
     "output_type": "display_data"
    }
   ],
   "source": [
    "iterations = 200\n",
    "lr_m = LinearRegression(d, iterations)\n",
    "errors, weights = lr_nv.SGDWithMomentum(X_train, y_train)\n",
    "print(\"SGD With Nestorev Momentum\")\n",
    "print(\"Training Loss = \" + str(lr_m.MSE(lr_m.run(X_train).T, y_train)))\n",
    "print(\"Test Loss = \" + str(lr_m.MSE(lr_m.run(X_test).T, y_test)))\n",
    "\n",
    "# plt.plot(range(1, iterations+1), errors)\n",
    "plt.scatter(X_test, y_test,  color='black')\n",
    "plt.scatter(X_test.T, lr_m.run(X_test), color='blue', linewidth=3)\n",
    "plt.show()"
   ]
  },
  {
   "cell_type": "code",
   "execution_count": 147,
   "metadata": {
    "collapsed": false,
    "deletable": true,
    "editable": true
   },
   "outputs": [
    {
     "name": "stdout",
     "output_type": "stream",
     "text": [
      "SGD With Momentum\n",
      "Training Loss = 1.07620884229\n",
      "Test Loss = 0.847383003094\n"
     ]
    },
    {
     "data": {
      "image/png": "[encoded data removed]",
      "text/plain": [
       "<matplotlib.figure.Figure at 0x1183295c0>"
      ]
     },
     "metadata": {},
     "output_type": "display_data"
    }
   ],
   "source": [
    "iterations = 200\n",
    "lr_nv = LinearRegression(d, iterations)\n",
    "errors, weights = lr_m.SGDWithNestorovMomentum(X_train, y_train)\n",
    "print(\"SGD With Momentum\")\n",
    "print(\"Training Loss = \" + str(lr_nv.MSE(lr_nv.run(X_train).T, y_train)))\n",
    "print(\"Test Loss = \" + str(lr_nv.MSE(lr_nv.run(X_test).T, y_test)))\n",
    "\n",
    "# plt.plot(range(1, iterations+1), errors)\n",
    "plt.scatter(X_test, y_test,  color='black')\n",
    "plt.scatter(X_test.T, lr_nv.run(X_test), color='blue', linewidth=3)\n",
    "plt.show()"
   ]
  },
  {
   "cell_type": "code",
   "execution_count": 145,
   "metadata": {
    "collapsed": false,
    "deletable": true,
    "editable": true
   },
   "outputs": [
    {
     "name": "stdout",
     "output_type": "stream",
     "text": [
      "SGD With Adagrad\n",
      "Training Loss = 1.01653024943\n",
      "Test Loss = 0.826097620956\n"
     ]
    },
    {
     "data": {
      "image/png": "[encoded data removed]",
      "text/plain": [
       "<matplotlib.figure.Figure at 0x118098b38>"
      ]
     },
     "metadata": {},
     "output_type": "display_data"
    }
   ],
   "source": [
    "iterations = 200\n",
    "lr_ad = LinearRegression(d, iterations)\n",
    "errors, weights = lr_ad.SGDWithAdagrad(X_train, y_train)\n",
    "print(\"SGD With Adagrad\")\n",
    "print(\"Training Loss = \" + str(lr_ad.MSE(lr_ad.run(X_train).T, y_train)))\n",
    "print(\"Test Loss = \" + str(lr_ad.MSE(lr_ad.run(X_test).T, y_test)))\n",
    "\n",
    "plt.scatter(X_test, y_test,  color='black')\n",
    "plt.scatter(X_test.T, lr_ad.run(X_test), color='blue', linewidth=3)\n",
    "plt.show()"
   ]
  },
  {
   "cell_type": "code",
   "execution_count": null,
   "metadata": {
    "collapsed": false,
    "deletable": true,
    "editable": true
   },
   "outputs": [],
   "source": []
  },
  {
   "cell_type": "code",
   "execution_count": null,
   "metadata": {
    "collapsed": true,
    "deletable": true,
    "editable": true
   },
   "outputs": [],
   "source": []
  }
 ],
 "metadata": {
  "kernelspec": {
   "display_name": "Python 3",
   "language": "python",
   "name": "python3"
  },
  "language_info": {
   "codemirror_mode": {
    "name": "ipython",
    "version": 3
   },
   "file_extension": ".py",
   "mimetype": "text/x-python",
   "name": "python",
   "nbconvert_exporter": "python",
   "pygments_lexer": "ipython3",
   "version": "3.6.0"
  }
 },
 "nbformat": 4,
 "nbformat_minor": 2
}
